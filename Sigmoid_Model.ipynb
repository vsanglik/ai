{
  "nbformat": 4,
  "nbformat_minor": 0,
  "metadata": {
    "colab": {
      "provenance": [],
      "include_colab_link": true
    },
    "kernelspec": {
      "display_name": "Python 3",
      "language": "python",
      "name": "python3"
    },
    "language_info": {
      "codemirror_mode": {
        "name": "ipython",
        "version": 3
      },
      "file_extension": ".py",
      "mimetype": "text/x-python",
      "name": "python",
      "nbconvert_exporter": "python",
      "pygments_lexer": "ipython3",
      "version": "3.7.4"
    }
  },
  "cells": [
    {
      "cell_type": "markdown",
      "metadata": {
        "id": "view-in-github",
        "colab_type": "text"
      },
      "source": [
        "<a href=\"https://colab.research.google.com/github/vsanglik/ai/blob/main/Sigmoid_Model.ipynb\" target=\"_parent\"><img src=\"https://colab.research.google.com/assets/colab-badge.svg\" alt=\"Open In Colab\"/></a>"
      ]
    },
    {
      "cell_type": "markdown",
      "metadata": {
        "id": "u27VqMAA-91h"
      },
      "source": [
        "# $S_{w, b}(x) = \\frac{1}{1 + e^{-(wx + b)}}$\n",
        "\n",
        "### Linear Operation & Activation"
      ]
    },
    {
      "cell_type": "code",
      "metadata": {
        "id": "Db6WgqlG8hyR"
      },
      "source": [
        "import numpy as np\n",
        "import pandas as pd\n",
        "import matplotlib.pyplot as plt"
      ],
      "execution_count": null,
      "outputs": []
    },
    {
      "cell_type": "code",
      "metadata": {
        "id": "p670tJjzd8o2"
      },
      "source": [
        "def Linear(x,w,b):\n",
        "  return w*x+b"
      ],
      "execution_count": null,
      "outputs": []
    },
    {
      "cell_type": "code",
      "source": [
        "#Test\n",
        "w = 1.5\n",
        "b = -2\n",
        "X = np.linspace(-10,10,100)\n",
        "Y = Linear(X,w,b)\n",
        "plt.plot(X,Y)\n",
        "plt.title(\"Plot of Linear Summation \")\n",
        "plt.show()\n",
        "print(\"w =\",w,\"b=\",b)"
      ],
      "metadata": {
        "colab": {
          "base_uri": "https://localhost:8080/",
          "height": 469
        },
        "id": "y0IU_6pWmkB0",
        "outputId": "c16fa4d7-4b99-40b1-9e0b-0ea9037b4315"
      },
      "execution_count": null,
      "outputs": [
        {
          "output_type": "display_data",
          "data": {
            "text/plain": [
              "<Figure size 640x480 with 1 Axes>"
            ],
            "image/png": "[encoded data removed]"
          },
          "metadata": {}
        },
        {
          "output_type": "stream",
          "name": "stdout",
          "text": [
            "w = 1.5 b= -2\n"
          ]
        }
      ]
    },
    {
      "cell_type": "code",
      "source": [
        "X"
      ],
      "metadata": {
        "id": "8-AQI6b7pGOK"
      },
      "execution_count": null,
      "outputs": []
    },
    {
      "cell_type": "code",
      "source": [
        "Linear(X,w,b)"
      ],
      "metadata": {
        "id": "GfdJLiiEnQ7U"
      },
      "execution_count": null,
      "outputs": []
    },
    {
      "cell_type": "code",
      "source": [
        "(Linear(X,w,b) > 2).astype(int)"
      ],
      "metadata": {
        "id": "49fY3LERnW2M",
        "colab": {
          "base_uri": "https://localhost:8080/"
        },
        "outputId": "671eb486-2a4d-46e4-a571-c5370e53bfbc"
      },
      "execution_count": null,
      "outputs": [
        {
          "output_type": "execute_result",
          "data": {
            "text/plain": [
              "array([0, 0, 0, 0, 0, 0, 0, 0, 0, 0, 0, 0, 0, 0, 0, 0, 0, 0, 0, 0, 0, 0,\n",
              "       0, 0, 0, 0, 0, 0, 0, 0, 0, 0, 0, 0, 0, 0, 0, 0, 0, 0, 0, 0, 0, 0,\n",
              "       0, 0, 0, 0, 0, 0, 0, 0, 0, 0, 0, 0, 0, 0, 0, 0, 0, 0, 0, 1, 1, 1,\n",
              "       1, 1, 1, 1, 1, 1, 1, 1, 1, 1, 1, 1, 1, 1, 1, 1, 1, 1, 1, 1, 1, 1,\n",
              "       1, 1, 1, 1, 1, 1, 1, 1, 1, 1, 1, 1])"
            ]
          },
          "metadata": {},
          "execution_count": 4
        }
      ]
    },
    {
      "cell_type": "code",
      "source": [
        "#threshold = 2\n",
        "w = 1.5\n",
        "b = -2\n",
        "X = np.linspace(-10,10,100)\n",
        "Y = (Linear(X,w,b) > 2).astype('int')\n",
        "plt.plot(X,Y)\n",
        "plt.title(\"Plot of Linear Summation \")\n",
        "plt.show()\n",
        "print(\"w =\",w,\"b=\",b)"
      ],
      "metadata": {
        "id": "saUzLSDjmj-c",
        "colab": {
          "base_uri": "https://localhost:8080/",
          "height": 469
        },
        "outputId": "8b25a450-5fde-48c5-c9f5-43680edc0d1f"
      },
      "execution_count": null,
      "outputs": [
        {
          "output_type": "display_data",
          "data": {
            "text/plain": [
              "<Figure size 640x480 with 1 Axes>"
            ],
            "image/png": "[encoded data removed]"
          },
          "metadata": {}
        },
        {
          "output_type": "stream",
          "name": "stdout",
          "text": [
            "w = 1.5 b= -2\n"
          ]
        }
      ]
    },
    {
      "cell_type": "code",
      "metadata": {
        "id": "uyut5_MA8-Xe"
      },
      "source": [
        "def Sigmoid(x,w,b):\n",
        "  return 1/(1+np.exp(-(Linear(x,w,b))))"
      ],
      "execution_count": null,
      "outputs": []
    },
    {
      "cell_type": "code",
      "source": [
        "Linear(10,2,1)"
      ],
      "metadata": {
        "id": "NwtQa5T0D0XX",
        "colab": {
          "base_uri": "https://localhost:8080/"
        },
        "outputId": "774a7dbb-a6ca-45b2-b28d-7d6e0ca69b5f"
      },
      "execution_count": null,
      "outputs": [
        {
          "output_type": "execute_result",
          "data": {
            "text/plain": [
              "21"
            ]
          },
          "metadata": {},
          "execution_count": 7
        }
      ]
    },
    {
      "cell_type": "code",
      "source": [],
      "metadata": {
        "id": "1UIr61PCvgxE"
      },
      "execution_count": null,
      "outputs": []
    },
    {
      "cell_type": "code",
      "metadata": {
        "id": "LLu8VNVq9Igu",
        "colab": {
          "base_uri": "https://localhost:8080/"
        },
        "outputId": "f07797bb-1eaf-4fca-844b-87c49fa7a277"
      },
      "source": [
        "Sigmoid(10,2,1)"
      ],
      "execution_count": null,
      "outputs": [
        {
          "output_type": "execute_result",
          "data": {
            "text/plain": [
              "0.9999999992417439"
            ]
          },
          "metadata": {},
          "execution_count": 8
        }
      ]
    },
    {
      "cell_type": "code",
      "source": [
        "np.linspace(-10,10,100)"
      ],
      "metadata": {
        "id": "owfi69AG9euN"
      },
      "execution_count": null,
      "outputs": []
    },
    {
      "cell_type": "code",
      "metadata": {
        "id": "X_xgdNVb9LUV",
        "colab": {
          "base_uri": "https://localhost:8080/",
          "height": 469
        },
        "outputId": "9d67ca65-a9bb-400d-a69a-0b67bae527d1"
      },
      "source": [
        "#Test\n",
        "w = 1.5\n",
        "b = -2\n",
        "X = np.linspace(-10,10,100)\n",
        "Y = Sigmoid(X,w,b)\n",
        "plt.plot(X,Y)\n",
        "plt.title(\"Plot of Sigmoid \")\n",
        "plt.show()\n",
        "print(\"w =\",w,\"b=\",b)"
      ],
      "execution_count": null,
      "outputs": [
        {
          "output_type": "display_data",
          "data": {
            "text/plain": [
              "<Figure size 640x480 with 1 Axes>"
            ],
            "image/png": "[encoded data removed]"
          },
          "metadata": {}
        },
        {
          "output_type": "stream",
          "name": "stdout",
          "text": [
            "w = 1.5 b= -2\n"
          ]
        }
      ]
    },
    {
      "cell_type": "code",
      "source": [
        "Y"
      ],
      "metadata": {
        "id": "bNwINoH9f_sQ"
      },
      "execution_count": null,
      "outputs": []
    },
    {
      "cell_type": "code",
      "source": [
        "Linear(X,w,b)"
      ],
      "metadata": {
        "id": "25LtOEkBENJc"
      },
      "execution_count": null,
      "outputs": []
    },
    {
      "cell_type": "code",
      "source": [],
      "metadata": {
        "id": "wF2R1Vvtf9WR"
      },
      "execution_count": null,
      "outputs": []
    },
    {
      "cell_type": "code",
      "metadata": {
        "id": "_Ukh60C49dlc"
      },
      "source": [
        "'''\n",
        "In case of 3 input features:\n",
        "y = 1/(1+np.exp(-(w1*x1+w2*x2+w3*x3)))\n",
        "\n",
        "\n",
        "or we can represent in vectors:\n",
        "y = 1/(1+ np.exp(-(np.dot(w,x)+b)))\n",
        "''';"
      ],
      "execution_count": null,
      "outputs": []
    },
    {
      "cell_type": "code",
      "metadata": {
        "id": "0J2InC1M-AkY"
      },
      "source": [
        "w = 0.7\n",
        "b = 0.3\n",
        "X = np.array([1,2,3,4,5,6,7,8,9,10])\n",
        "Y = Sigmoid(X,w,b)\n",
        "Y"
      ],
      "execution_count": null,
      "outputs": []
    },
    {
      "cell_type": "code",
      "metadata": {
        "id": "fVrQgXrf-SJv"
      },
      "source": [
        "#Choose a threshold to convert Y to boolean"
      ],
      "execution_count": null,
      "outputs": []
    },
    {
      "cell_type": "markdown",
      "metadata": {
        "id": "ITXV-Uf1_YE1"
      },
      "source": [
        "# Intuition of Sigmoid"
      ]
    },
    {
      "cell_type": "code",
      "metadata": {
        "id": "bDMGQk7B_vQ-"
      },
      "source": [
        "#Change the Slider of w and b to get intuition of Sigmoid\n",
        "w = -3.3 #@param {type:\"slider\", min:-5, max:5,step:0.1}\n",
        "b = -3.7    #@param {type: \"slider\", min: -5, max: 5,step:0.1}\n",
        "X = np.linspace(-10,10,100)\n",
        "Y = Sigmoid(X,w,b)\n",
        "plt.plot(X,Y)\n",
        "plt.title(\"Plot of Sigmoid at w = {},b = {}\".format(w,b));"
      ],
      "execution_count": null,
      "outputs": []
    },
    {
      "cell_type": "code",
      "metadata": {
        "id": "zD4ugyd6RyXc"
      },
      "source": [
        "#@title Example form fields\n",
        "#@markdown Forms support many types of fields.\n",
        "\n",
        "no_type_checking = None  #@param\n",
        "string_type = ''  #@param {type: \"string\"}\n",
        "slider_value = 134  #@param {type: \"slider\", min: 100, max: 200}\n",
        "number = 102  #@param {type: \"number\"}\n",
        "date = '2010-11-05'  #@param {type: \"date\"}\n",
        "pick_me = \"monday\"  #@param ['monday', 'tuesday', 'wednesday', 'thursday']\n",
        "select_or_input = \"apples\" #@param [\"apples\", \"bananas\", \"oranges\"] {allow-input: true}\n",
        "#@markdown ---"
      ],
      "execution_count": null,
      "outputs": []
    },
    {
      "cell_type": "code",
      "source": [
        "x =14 #@param {type:\"slider\", min: 10,max:20}"
      ],
      "metadata": {
        "id": "jDrTZ8ZA_QNV"
      },
      "execution_count": null,
      "outputs": []
    }
  ]
}