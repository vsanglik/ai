{
  "nbformat": 4,
  "nbformat_minor": 0,
  "metadata": {
    "colab": {
      "provenance": [],
      "include_colab_link": true
    },
    "kernelspec": {
      "name": "python3",
      "display_name": "Python 3"
    },
    "language_info": {
      "name": "python"
    }
  },
  "cells": [
    {
      "cell_type": "markdown",
      "metadata": {
        "id": "view-in-github",
        "colab_type": "text"
      },
      "source": [
        "<a href=\"https://colab.research.google.com/github/vsanglik/ai/blob/main/Autoencoders.ipynb\" target=\"_parent\"><img src=\"https://colab.research.google.com/assets/colab-badge.svg\" alt=\"Open In Colab\"/></a>"
      ]
    },
    {
      "cell_type": "code",
      "execution_count": null,
      "metadata": {
        "id": "zleS5w4dq-sG"
      },
      "outputs": [],
      "source": [
        "# mnist data - 784 - encode them to lesser number of nodes [32] - decode them back to 784 [ reconstruct input]\n",
        "\n",
        "import tensorflow as tf\n",
        "from tensorflow.keras.datasets import mnist\n",
        "from tensorflow.keras.models import Model # functional composition\n",
        "from tensorflow.keras.layers import Input, Dense\n",
        "import numpy as np #arrays\n",
        "import matplotlib.pyplot as plt # visualization\n"
      ]
    },
    {
      "cell_type": "code",
      "source": [
        "# 784 - 32 - 784 [xa[0.01, 0.87,0.987]- xp[[7566,987309,9187301]]]\n",
        "# read dataset\n",
        "(x_train,_),(x_test,_) = mnist.load_data()\n",
        "## scale the data to a range of 0 to 1 by dividing the values between 0- 255\n",
        "x_train = x_train.astype('float32')/255.\n",
        "x_test = x_test.astype('float32')/255.\n",
        "## reshape the data\n",
        "x_train = x_train.reshape(60000,784)\n",
        "x_test = x_test.reshape(10000,784)"
      ],
      "metadata": {
        "colab": {
          "base_uri": "https://localhost:8080/"
        },
        "id": "Wt3Cv5Ryr53c",
        "outputId": "cf607dd9-88fb-4ea0-89a7-a1b11d5c2d4c"
      },
      "execution_count": null,
      "outputs": [
        {
          "output_type": "stream",
          "name": "stdout",
          "text": [
            "Downloading data from https://storage.googleapis.com/tensorflow/tf-keras-datasets/mnist.npz\n",
            "11490434/11490434 [==============================] - 0s 0us/step\n"
          ]
        }
      ]
    },
    {
      "cell_type": "code",
      "source": [
        "encoding_dim = 32\n",
        "input_img = Input(shape=(784,))\n",
        "encoded = Dense(encoding_dim,activation = 'relu')(input_img) #784 -32\n",
        "decoded = Dense(784,activation = 'sigmoid')(encoded) # 32- 784\n",
        "autoencoder = Model(input_img,decoded)"
      ],
      "metadata": {
        "id": "PR8Ox_2Ms6ZJ"
      },
      "execution_count": null,
      "outputs": []
    },
    {
      "cell_type": "code",
      "source": [
        "autoencoder.compile(optimizer = 'adam',\n",
        "                    loss= 'binary_crossentropy')\n",
        "autoencoder.fit(x_train,\n",
        "                x_train,\n",
        "                epochs=50,\n",
        "                batch_size = 100,\n",
        "                shuffle= True,\n",
        "                validation_data=(x_test,x_test))"
      ],
      "metadata": {
        "colab": {
          "base_uri": "https://localhost:8080/"
        },
        "id": "2Ga4TTP_s6cK",
        "outputId": "49aa356f-5309-4a0a-ad7c-00f6d32b6379"
      },
      "execution_count": null,
      "outputs": [
        {
          "output_type": "stream",
          "name": "stdout",
          "text": [
            "Epoch 1/50\n",
            "600/600 [==============================] - 5s 6ms/step - loss: 0.2145 - val_loss: 0.1495\n",
            "Epoch 2/50\n",
            "600/600 [==============================] - 6s 10ms/step - loss: 0.1337 - val_loss: 0.1191\n",
            "Epoch 3/50\n",
            "600/600 [==============================] - 6s 9ms/step - loss: 0.1127 - val_loss: 0.1047\n",
            "Epoch 4/50\n",
            "600/600 [==============================] - 4s 7ms/step - loss: 0.1025 - val_loss: 0.0979\n",
            "Epoch 5/50\n",
            "600/600 [==============================] - 4s 6ms/step - loss: 0.0976 - val_loss: 0.0949\n",
            "Epoch 6/50\n",
            "600/600 [==============================] - 5s 8ms/step - loss: 0.0956 - val_loss: 0.0936\n",
            "Epoch 7/50\n",
            "600/600 [==============================] - 4s 6ms/step - loss: 0.0947 - val_loss: 0.0930\n",
            "Epoch 8/50\n",
            "600/600 [==============================] - 4s 6ms/step - loss: 0.0942 - val_loss: 0.0927\n",
            "Epoch 9/50\n",
            "600/600 [==============================] - 5s 8ms/step - loss: 0.0939 - val_loss: 0.0926\n",
            "Epoch 10/50\n",
            "600/600 [==============================] - 4s 6ms/step - loss: 0.0937 - val_loss: 0.0924\n",
            "Epoch 11/50\n",
            "600/600 [==============================] - 3s 6ms/step - loss: 0.0936 - val_loss: 0.0923\n",
            "Epoch 12/50\n",
            "600/600 [==============================] - 4s 6ms/step - loss: 0.0935 - val_loss: 0.0921\n",
            "Epoch 13/50\n",
            "600/600 [==============================] - 5s 8ms/step - loss: 0.0934 - val_loss: 0.0922\n",
            "Epoch 14/50\n",
            "600/600 [==============================] - 3s 6ms/step - loss: 0.0934 - val_loss: 0.0921\n",
            "Epoch 15/50\n",
            "600/600 [==============================] - 3s 6ms/step - loss: 0.0933 - val_loss: 0.0920\n",
            "Epoch 16/50\n",
            "600/600 [==============================] - 5s 8ms/step - loss: 0.0932 - val_loss: 0.0919\n",
            "Epoch 17/50\n",
            "600/600 [==============================] - 4s 6ms/step - loss: 0.0932 - val_loss: 0.0919\n",
            "Epoch 18/50\n",
            "600/600 [==============================] - 3s 5ms/step - loss: 0.0931 - val_loss: 0.0920\n",
            "Epoch 19/50\n",
            "600/600 [==============================] - 3s 6ms/step - loss: 0.0931 - val_loss: 0.0919\n",
            "Epoch 20/50\n",
            "600/600 [==============================] - 5s 8ms/step - loss: 0.0931 - val_loss: 0.0919\n",
            "Epoch 21/50\n",
            "600/600 [==============================] - 3s 6ms/step - loss: 0.0930 - val_loss: 0.0918\n",
            "Epoch 22/50\n",
            "600/600 [==============================] - 3s 6ms/step - loss: 0.0930 - val_loss: 0.0918\n",
            "Epoch 23/50\n",
            "600/600 [==============================] - 5s 8ms/step - loss: 0.0930 - val_loss: 0.0920\n",
            "Epoch 24/50\n",
            "600/600 [==============================] - 4s 6ms/step - loss: 0.0929 - val_loss: 0.0918\n",
            "Epoch 25/50\n",
            "600/600 [==============================] - 3s 5ms/step - loss: 0.0929 - val_loss: 0.0918\n",
            "Epoch 26/50\n",
            "600/600 [==============================] - 3s 6ms/step - loss: 0.0929 - val_loss: 0.0917\n",
            "Epoch 27/50\n",
            "600/600 [==============================] - 5s 8ms/step - loss: 0.0929 - val_loss: 0.0918\n",
            "Epoch 28/50\n",
            "600/600 [==============================] - 4s 7ms/step - loss: 0.0929 - val_loss: 0.0917\n",
            "Epoch 29/50\n",
            "600/600 [==============================] - 4s 6ms/step - loss: 0.0928 - val_loss: 0.0917\n",
            "Epoch 30/50\n",
            "600/600 [==============================] - 7s 11ms/step - loss: 0.0928 - val_loss: 0.0917\n",
            "Epoch 31/50\n",
            "600/600 [==============================] - 4s 7ms/step - loss: 0.0928 - val_loss: 0.0917\n",
            "Epoch 32/50\n",
            "600/600 [==============================] - 4s 7ms/step - loss: 0.0928 - val_loss: 0.0916\n",
            "Epoch 33/50\n",
            "600/600 [==============================] - 5s 9ms/step - loss: 0.0928 - val_loss: 0.0916\n",
            "Epoch 34/50\n",
            "600/600 [==============================] - 4s 6ms/step - loss: 0.0927 - val_loss: 0.0916\n",
            "Epoch 35/50\n",
            "600/600 [==============================] - 4s 6ms/step - loss: 0.0927 - val_loss: 0.0916\n",
            "Epoch 36/50\n",
            "600/600 [==============================] - 5s 9ms/step - loss: 0.0927 - val_loss: 0.0916\n",
            "Epoch 37/50\n",
            "600/600 [==============================] - 4s 6ms/step - loss: 0.0927 - val_loss: 0.0916\n",
            "Epoch 38/50\n",
            "600/600 [==============================] - 5s 8ms/step - loss: 0.0927 - val_loss: 0.0916\n",
            "Epoch 39/50\n",
            "600/600 [==============================] - 5s 8ms/step - loss: 0.0927 - val_loss: 0.0915\n",
            "Epoch 40/50\n",
            "600/600 [==============================] - 4s 7ms/step - loss: 0.0927 - val_loss: 0.0916\n",
            "Epoch 41/50\n",
            "600/600 [==============================] - 4s 6ms/step - loss: 0.0926 - val_loss: 0.0916\n",
            "Epoch 42/50\n",
            "600/600 [==============================] - 3s 6ms/step - loss: 0.0926 - val_loss: 0.0915\n",
            "Epoch 43/50\n",
            "600/600 [==============================] - 7s 11ms/step - loss: 0.0926 - val_loss: 0.0916\n",
            "Epoch 44/50\n",
            "600/600 [==============================] - 6s 11ms/step - loss: 0.0926 - val_loss: 0.0915\n",
            "Epoch 45/50\n",
            "600/600 [==============================] - 5s 9ms/step - loss: 0.0926 - val_loss: 0.0915\n",
            "Epoch 46/50\n",
            "600/600 [==============================] - 5s 8ms/step - loss: 0.0926 - val_loss: 0.0915\n",
            "Epoch 47/50\n",
            "600/600 [==============================] - 4s 7ms/step - loss: 0.0926 - val_loss: 0.0914\n",
            "Epoch 48/50\n",
            "600/600 [==============================] - 7s 12ms/step - loss: 0.0925 - val_loss: 0.0914\n",
            "Epoch 49/50\n",
            "600/600 [==============================] - 9s 15ms/step - loss: 0.0925 - val_loss: 0.0915\n",
            "Epoch 50/50\n",
            "600/600 [==============================] - 8s 13ms/step - loss: 0.0925 - val_loss: 0.0915\n"
          ]
        },
        {
          "output_type": "execute_result",
          "data": {
            "text/plain": [
              "<keras.src.callbacks.History at 0x7f7f130b2c80>"
            ]
          },
          "metadata": {},
          "execution_count": 6
        }
      ]
    },
    {
      "cell_type": "code",
      "source": [
        "# visualize the reconstructed input\n",
        "\n",
        "reconstructed_image = autoencoder.predict(x_test)\n",
        "\n",
        "n= 10\n",
        "plt.figure(figsize=(20,4))\n",
        "for i in range(n):\n",
        "  # display the original image\n",
        "  ax = plt.subplot(2,n,i+1)\n",
        "  plt.imshow(x_test[i].reshape(28,28))\n",
        "  plt.gray()\n",
        "  # display the reconstructed image\n",
        "  ax = plt.subplot(2,n,i+n+1)\n",
        "  plt.imshow(reconstructed_image[i].reshape(28,28))\n",
        "  plt.gray()\n",
        "plt.show()"
      ],
      "metadata": {
        "colab": {
          "base_uri": "https://localhost:8080/",
          "height": 316
        },
        "id": "Z9NCjbWNs6ez",
        "outputId": "851ff720-072e-4078-bca6-9802c8f2c131"
      },
      "execution_count": null,
      "outputs": [
        {
          "output_type": "stream",
          "name": "stdout",
          "text": [
            "313/313 [==============================] - 1s 2ms/step\n"
          ]
        },
        {
          "output_type": "display_data",
          "data": {
            "text/plain": [
              "<Figure size 2000x400 with 20 Axes>"
            ],
            "image/png": "[encoded data removed]"
          },
          "metadata": {}
        }
      ]
    },
    {
      "cell_type": "code",
      "source": [
        "# please write 3 inferences:\n",
        "\n",
        "# 9 looks bad\n",
        "# some edges have been not reconciled correctly\n",
        "# 5 also does not match\n",
        "# Image quality for reconstruction is not good\n",
        "# 4 from reconstructed is blurry ( general behaviour)"
      ],
      "metadata": {
        "id": "AgX1z5Tzs6zZ"
      },
      "execution_count": null,
      "outputs": []
    },
    {
      "cell_type": "code",
      "source": [
        "# GAN - autoencoders - data geenration\n",
        "\n",
        "# boltzmann - autoencodrs with 2 layers are called restricted bltzmann machines"
      ],
      "metadata": {
        "id": "CpU8Krnz2SPS"
      },
      "execution_count": null,
      "outputs": []
    }
  ]
}